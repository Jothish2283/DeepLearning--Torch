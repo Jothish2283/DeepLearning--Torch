{
  "nbformat": 4,
  "nbformat_minor": 0,
  "metadata": {
    "colab": {
      "provenance": [],
      "toc_visible": true
    },
    "kernelspec": {
      "name": "python3",
      "display_name": "Python 3"
    },
    "language_info": {
      "name": "python"
    },
    "gpuClass": "standard",
    "widgets": {
      "application/vnd.jupyter.widget-state+json": {
        "712c98fb203c4df1bde2b4ed52ea1248": {
          "model_module": "@jupyter-widgets/controls",
          "model_name": "HBoxModel",
          "model_module_version": "1.5.0",
          "state": {
            "_dom_classes": [],
            "_model_module": "@jupyter-widgets/controls",
            "_model_module_version": "1.5.0",
            "_model_name": "HBoxModel",
            "_view_count": null,
            "_view_module": "@jupyter-widgets/controls",
            "_view_module_version": "1.5.0",
            "_view_name": "HBoxView",
            "box_style": "",
            "children": [
              "IPY_MODEL_8fc7c7f5420d451b91192cc2cbb14b16",
              "IPY_MODEL_f4aa294d6a334b10bc66d5c22e7370c1",
              "IPY_MODEL_842b2ff0d5674e58bb6e4cd9a4abc1dc"
            ],
            "layout": "IPY_MODEL_e54a223560e84f9c9a49ccb86d84bf11"
          }
        },
        "8fc7c7f5420d451b91192cc2cbb14b16": {
          "model_module": "@jupyter-widgets/controls",
          "model_name": "HTMLModel",
          "model_module_version": "1.5.0",
          "state": {
            "_dom_classes": [],
            "_model_module": "@jupyter-widgets/controls",
            "_model_module_version": "1.5.0",
            "_model_name": "HTMLModel",
            "_view_count": null,
            "_view_module": "@jupyter-widgets/controls",
            "_view_module_version": "1.5.0",
            "_view_name": "HTMLView",
            "description": "",
            "description_tooltip": null,
            "layout": "IPY_MODEL_20efd3303de54627a47c34e27e79fb5a",
            "placeholder": "​",
            "style": "IPY_MODEL_92531e9cae544aff93b210f44ca7c43f",
            "value": "100%"
          }
        },
        "f4aa294d6a334b10bc66d5c22e7370c1": {
          "model_module": "@jupyter-widgets/controls",
          "model_name": "FloatProgressModel",
          "model_module_version": "1.5.0",
          "state": {
            "_dom_classes": [],
            "_model_module": "@jupyter-widgets/controls",
            "_model_module_version": "1.5.0",
            "_model_name": "FloatProgressModel",
            "_view_count": null,
            "_view_module": "@jupyter-widgets/controls",
            "_view_module_version": "1.5.0",
            "_view_name": "ProgressView",
            "bar_style": "success",
            "description": "",
            "description_tooltip": null,
            "layout": "IPY_MODEL_fdd705b49bcb442987dd78ad62499e5d",
            "max": 5,
            "min": 0,
            "orientation": "horizontal",
            "style": "IPY_MODEL_4f36dff5bf4449d68b417baf40784bab",
            "value": 5
          }
        },
        "842b2ff0d5674e58bb6e4cd9a4abc1dc": {
          "model_module": "@jupyter-widgets/controls",
          "model_name": "HTMLModel",
          "model_module_version": "1.5.0",
          "state": {
            "_dom_classes": [],
            "_model_module": "@jupyter-widgets/controls",
            "_model_module_version": "1.5.0",
            "_model_name": "HTMLModel",
            "_view_count": null,
            "_view_module": "@jupyter-widgets/controls",
            "_view_module_version": "1.5.0",
            "_view_name": "HTMLView",
            "description": "",
            "description_tooltip": null,
            "layout": "IPY_MODEL_c796dcdde6d2414fb21e6f7ca358b535",
            "placeholder": "​",
            "style": "IPY_MODEL_a2d3dc706325498db8dd6530d6a10fd4",
            "value": " 5/5 [01:21&lt;00:00, 16.63s/it]"
          }
        },
        "e54a223560e84f9c9a49ccb86d84bf11": {
          "model_module": "@jupyter-widgets/base",
          "model_name": "LayoutModel",
          "model_module_version": "1.2.0",
          "state": {
            "_model_module": "@jupyter-widgets/base",
            "_model_module_version": "1.2.0",
            "_model_name": "LayoutModel",
            "_view_count": null,
            "_view_module": "@jupyter-widgets/base",
            "_view_module_version": "1.2.0",
            "_view_name": "LayoutView",
            "align_content": null,
            "align_items": null,
            "align_self": null,
            "border": null,
            "bottom": null,
            "display": null,
            "flex": null,
            "flex_flow": null,
            "grid_area": null,
            "grid_auto_columns": null,
            "grid_auto_flow": null,
            "grid_auto_rows": null,
            "grid_column": null,
            "grid_gap": null,
            "grid_row": null,
            "grid_template_areas": null,
            "grid_template_columns": null,
            "grid_template_rows": null,
            "height": null,
            "justify_content": null,
            "justify_items": null,
            "left": null,
            "margin": null,
            "max_height": null,
            "max_width": null,
            "min_height": null,
            "min_width": null,
            "object_fit": null,
            "object_position": null,
            "order": null,
            "overflow": null,
            "overflow_x": null,
            "overflow_y": null,
            "padding": null,
            "right": null,
            "top": null,
            "visibility": null,
            "width": null
          }
        },
        "20efd3303de54627a47c34e27e79fb5a": {
          "model_module": "@jupyter-widgets/base",
          "model_name": "LayoutModel",
          "model_module_version": "1.2.0",
          "state": {
            "_model_module": "@jupyter-widgets/base",
            "_model_module_version": "1.2.0",
            "_model_name": "LayoutModel",
            "_view_count": null,
            "_view_module": "@jupyter-widgets/base",
            "_view_module_version": "1.2.0",
            "_view_name": "LayoutView",
            "align_content": null,
            "align_items": null,
            "align_self": null,
            "border": null,
            "bottom": null,
            "display": null,
            "flex": null,
            "flex_flow": null,
            "grid_area": null,
            "grid_auto_columns": null,
            "grid_auto_flow": null,
            "grid_auto_rows": null,
            "grid_column": null,
            "grid_gap": null,
            "grid_row": null,
            "grid_template_areas": null,
            "grid_template_columns": null,
            "grid_template_rows": null,
            "height": null,
            "justify_content": null,
            "justify_items": null,
            "left": null,
            "margin": null,
            "max_height": null,
            "max_width": null,
            "min_height": null,
            "min_width": null,
            "object_fit": null,
            "object_position": null,
            "order": null,
            "overflow": null,
            "overflow_x": null,
            "overflow_y": null,
            "padding": null,
            "right": null,
            "top": null,
            "visibility": null,
            "width": null
          }
        },
        "92531e9cae544aff93b210f44ca7c43f": {
          "model_module": "@jupyter-widgets/controls",
          "model_name": "DescriptionStyleModel",
          "model_module_version": "1.5.0",
          "state": {
            "_model_module": "@jupyter-widgets/controls",
            "_model_module_version": "1.5.0",
            "_model_name": "DescriptionStyleModel",
            "_view_count": null,
            "_view_module": "@jupyter-widgets/base",
            "_view_module_version": "1.2.0",
            "_view_name": "StyleView",
            "description_width": ""
          }
        },
        "fdd705b49bcb442987dd78ad62499e5d": {
          "model_module": "@jupyter-widgets/base",
          "model_name": "LayoutModel",
          "model_module_version": "1.2.0",
          "state": {
            "_model_module": "@jupyter-widgets/base",
            "_model_module_version": "1.2.0",
            "_model_name": "LayoutModel",
            "_view_count": null,
            "_view_module": "@jupyter-widgets/base",
            "_view_module_version": "1.2.0",
            "_view_name": "LayoutView",
            "align_content": null,
            "align_items": null,
            "align_self": null,
            "border": null,
            "bottom": null,
            "display": null,
            "flex": null,
            "flex_flow": null,
            "grid_area": null,
            "grid_auto_columns": null,
            "grid_auto_flow": null,
            "grid_auto_rows": null,
            "grid_column": null,
            "grid_gap": null,
            "grid_row": null,
            "grid_template_areas": null,
            "grid_template_columns": null,
            "grid_template_rows": null,
            "height": null,
            "justify_content": null,
            "justify_items": null,
            "left": null,
            "margin": null,
            "max_height": null,
            "max_width": null,
            "min_height": null,
            "min_width": null,
            "object_fit": null,
            "object_position": null,
            "order": null,
            "overflow": null,
            "overflow_x": null,
            "overflow_y": null,
            "padding": null,
            "right": null,
            "top": null,
            "visibility": null,
            "width": null
          }
        },
        "4f36dff5bf4449d68b417baf40784bab": {
          "model_module": "@jupyter-widgets/controls",
          "model_name": "ProgressStyleModel",
          "model_module_version": "1.5.0",
          "state": {
            "_model_module": "@jupyter-widgets/controls",
            "_model_module_version": "1.5.0",
            "_model_name": "ProgressStyleModel",
            "_view_count": null,
            "_view_module": "@jupyter-widgets/base",
            "_view_module_version": "1.2.0",
            "_view_name": "StyleView",
            "bar_color": null,
            "description_width": ""
          }
        },
        "c796dcdde6d2414fb21e6f7ca358b535": {
          "model_module": "@jupyter-widgets/base",
          "model_name": "LayoutModel",
          "model_module_version": "1.2.0",
          "state": {
            "_model_module": "@jupyter-widgets/base",
            "_model_module_version": "1.2.0",
            "_model_name": "LayoutModel",
            "_view_count": null,
            "_view_module": "@jupyter-widgets/base",
            "_view_module_version": "1.2.0",
            "_view_name": "LayoutView",
            "align_content": null,
            "align_items": null,
            "align_self": null,
            "border": null,
            "bottom": null,
            "display": null,
            "flex": null,
            "flex_flow": null,
            "grid_area": null,
            "grid_auto_columns": null,
            "grid_auto_flow": null,
            "grid_auto_rows": null,
            "grid_column": null,
            "grid_gap": null,
            "grid_row": null,
            "grid_template_areas": null,
            "grid_template_columns": null,
            "grid_template_rows": null,
            "height": null,
            "justify_content": null,
            "justify_items": null,
            "left": null,
            "margin": null,
            "max_height": null,
            "max_width": null,
            "min_height": null,
            "min_width": null,
            "object_fit": null,
            "object_position": null,
            "order": null,
            "overflow": null,
            "overflow_x": null,
            "overflow_y": null,
            "padding": null,
            "right": null,
            "top": null,
            "visibility": null,
            "width": null
          }
        },
        "a2d3dc706325498db8dd6530d6a10fd4": {
          "model_module": "@jupyter-widgets/controls",
          "model_name": "DescriptionStyleModel",
          "model_module_version": "1.5.0",
          "state": {
            "_model_module": "@jupyter-widgets/controls",
            "_model_module_version": "1.5.0",
            "_model_name": "DescriptionStyleModel",
            "_view_count": null,
            "_view_module": "@jupyter-widgets/base",
            "_view_module_version": "1.2.0",
            "_view_name": "StyleView",
            "description_width": ""
          }
        },
        "d5ea2ed5956744d5b240c42dd366856a": {
          "model_module": "@jupyter-widgets/controls",
          "model_name": "HBoxModel",
          "model_module_version": "1.5.0",
          "state": {
            "_dom_classes": [],
            "_model_module": "@jupyter-widgets/controls",
            "_model_module_version": "1.5.0",
            "_model_name": "HBoxModel",
            "_view_count": null,
            "_view_module": "@jupyter-widgets/controls",
            "_view_module_version": "1.5.0",
            "_view_name": "HBoxView",
            "box_style": "",
            "children": [
              "IPY_MODEL_0df275e0be974d04a05a5528edd72f7d",
              "IPY_MODEL_100766deca0149088c36fe09ddbd2be7",
              "IPY_MODEL_66bb423d658f4bc68dde67c86349bb36"
            ],
            "layout": "IPY_MODEL_6a2bbee9156040f2abfccdd7d7904ab2"
          }
        },
        "0df275e0be974d04a05a5528edd72f7d": {
          "model_module": "@jupyter-widgets/controls",
          "model_name": "HTMLModel",
          "model_module_version": "1.5.0",
          "state": {
            "_dom_classes": [],
            "_model_module": "@jupyter-widgets/controls",
            "_model_module_version": "1.5.0",
            "_model_name": "HTMLModel",
            "_view_count": null,
            "_view_module": "@jupyter-widgets/controls",
            "_view_module_version": "1.5.0",
            "_view_name": "HTMLView",
            "description": "",
            "description_tooltip": null,
            "layout": "IPY_MODEL_fe133860eada499bb5aca8397f35466e",
            "placeholder": "​",
            "style": "IPY_MODEL_12da6b6d74774deabe9df757d6952aee",
            "value": "100%"
          }
        },
        "100766deca0149088c36fe09ddbd2be7": {
          "model_module": "@jupyter-widgets/controls",
          "model_name": "FloatProgressModel",
          "model_module_version": "1.5.0",
          "state": {
            "_dom_classes": [],
            "_model_module": "@jupyter-widgets/controls",
            "_model_module_version": "1.5.0",
            "_model_name": "FloatProgressModel",
            "_view_count": null,
            "_view_module": "@jupyter-widgets/controls",
            "_view_module_version": "1.5.0",
            "_view_name": "ProgressView",
            "bar_style": "success",
            "description": "",
            "description_tooltip": null,
            "layout": "IPY_MODEL_420afd29b2dc480fa5e2eec3bd178057",
            "max": 313,
            "min": 0,
            "orientation": "horizontal",
            "style": "IPY_MODEL_e9466546eec24226bfd99e1e3f11e44e",
            "value": 313
          }
        },
        "66bb423d658f4bc68dde67c86349bb36": {
          "model_module": "@jupyter-widgets/controls",
          "model_name": "HTMLModel",
          "model_module_version": "1.5.0",
          "state": {
            "_dom_classes": [],
            "_model_module": "@jupyter-widgets/controls",
            "_model_module_version": "1.5.0",
            "_model_name": "HTMLModel",
            "_view_count": null,
            "_view_module": "@jupyter-widgets/controls",
            "_view_module_version": "1.5.0",
            "_view_name": "HTMLView",
            "description": "",
            "description_tooltip": null,
            "layout": "IPY_MODEL_761649bdaec1481581af5bfe61f7ba29",
            "placeholder": "​",
            "style": "IPY_MODEL_e37a9820d78a4a72b6c2c297a246496c",
            "value": " 313/313 [00:02&lt;00:00, 124.60it/s]"
          }
        },
        "6a2bbee9156040f2abfccdd7d7904ab2": {
          "model_module": "@jupyter-widgets/base",
          "model_name": "LayoutModel",
          "model_module_version": "1.2.0",
          "state": {
            "_model_module": "@jupyter-widgets/base",
            "_model_module_version": "1.2.0",
            "_model_name": "LayoutModel",
            "_view_count": null,
            "_view_module": "@jupyter-widgets/base",
            "_view_module_version": "1.2.0",
            "_view_name": "LayoutView",
            "align_content": null,
            "align_items": null,
            "align_self": null,
            "border": null,
            "bottom": null,
            "display": null,
            "flex": null,
            "flex_flow": null,
            "grid_area": null,
            "grid_auto_columns": null,
            "grid_auto_flow": null,
            "grid_auto_rows": null,
            "grid_column": null,
            "grid_gap": null,
            "grid_row": null,
            "grid_template_areas": null,
            "grid_template_columns": null,
            "grid_template_rows": null,
            "height": null,
            "justify_content": null,
            "justify_items": null,
            "left": null,
            "margin": null,
            "max_height": null,
            "max_width": null,
            "min_height": null,
            "min_width": null,
            "object_fit": null,
            "object_position": null,
            "order": null,
            "overflow": null,
            "overflow_x": null,
            "overflow_y": null,
            "padding": null,
            "right": null,
            "top": null,
            "visibility": null,
            "width": null
          }
        },
        "fe133860eada499bb5aca8397f35466e": {
          "model_module": "@jupyter-widgets/base",
          "model_name": "LayoutModel",
          "model_module_version": "1.2.0",
          "state": {
            "_model_module": "@jupyter-widgets/base",
            "_model_module_version": "1.2.0",
            "_model_name": "LayoutModel",
            "_view_count": null,
            "_view_module": "@jupyter-widgets/base",
            "_view_module_version": "1.2.0",
            "_view_name": "LayoutView",
            "align_content": null,
            "align_items": null,
            "align_self": null,
            "border": null,
            "bottom": null,
            "display": null,
            "flex": null,
            "flex_flow": null,
            "grid_area": null,
            "grid_auto_columns": null,
            "grid_auto_flow": null,
            "grid_auto_rows": null,
            "grid_column": null,
            "grid_gap": null,
            "grid_row": null,
            "grid_template_areas": null,
            "grid_template_columns": null,
            "grid_template_rows": null,
            "height": null,
            "justify_content": null,
            "justify_items": null,
            "left": null,
            "margin": null,
            "max_height": null,
            "max_width": null,
            "min_height": null,
            "min_width": null,
            "object_fit": null,
            "object_position": null,
            "order": null,
            "overflow": null,
            "overflow_x": null,
            "overflow_y": null,
            "padding": null,
            "right": null,
            "top": null,
            "visibility": null,
            "width": null
          }
        },
        "12da6b6d74774deabe9df757d6952aee": {
          "model_module": "@jupyter-widgets/controls",
          "model_name": "DescriptionStyleModel",
          "model_module_version": "1.5.0",
          "state": {
            "_model_module": "@jupyter-widgets/controls",
            "_model_module_version": "1.5.0",
            "_model_name": "DescriptionStyleModel",
            "_view_count": null,
            "_view_module": "@jupyter-widgets/base",
            "_view_module_version": "1.2.0",
            "_view_name": "StyleView",
            "description_width": ""
          }
        },
        "420afd29b2dc480fa5e2eec3bd178057": {
          "model_module": "@jupyter-widgets/base",
          "model_name": "LayoutModel",
          "model_module_version": "1.2.0",
          "state": {
            "_model_module": "@jupyter-widgets/base",
            "_model_module_version": "1.2.0",
            "_model_name": "LayoutModel",
            "_view_count": null,
            "_view_module": "@jupyter-widgets/base",
            "_view_module_version": "1.2.0",
            "_view_name": "LayoutView",
            "align_content": null,
            "align_items": null,
            "align_self": null,
            "border": null,
            "bottom": null,
            "display": null,
            "flex": null,
            "flex_flow": null,
            "grid_area": null,
            "grid_auto_columns": null,
            "grid_auto_flow": null,
            "grid_auto_rows": null,
            "grid_column": null,
            "grid_gap": null,
            "grid_row": null,
            "grid_template_areas": null,
            "grid_template_columns": null,
            "grid_template_rows": null,
            "height": null,
            "justify_content": null,
            "justify_items": null,
            "left": null,
            "margin": null,
            "max_height": null,
            "max_width": null,
            "min_height": null,
            "min_width": null,
            "object_fit": null,
            "object_position": null,
            "order": null,
            "overflow": null,
            "overflow_x": null,
            "overflow_y": null,
            "padding": null,
            "right": null,
            "top": null,
            "visibility": null,
            "width": null
          }
        },
        "e9466546eec24226bfd99e1e3f11e44e": {
          "model_module": "@jupyter-widgets/controls",
          "model_name": "ProgressStyleModel",
          "model_module_version": "1.5.0",
          "state": {
            "_model_module": "@jupyter-widgets/controls",
            "_model_module_version": "1.5.0",
            "_model_name": "ProgressStyleModel",
            "_view_count": null,
            "_view_module": "@jupyter-widgets/base",
            "_view_module_version": "1.2.0",
            "_view_name": "StyleView",
            "bar_color": null,
            "description_width": ""
          }
        },
        "761649bdaec1481581af5bfe61f7ba29": {
          "model_module": "@jupyter-widgets/base",
          "model_name": "LayoutModel",
          "model_module_version": "1.2.0",
          "state": {
            "_model_module": "@jupyter-widgets/base",
            "_model_module_version": "1.2.0",
            "_model_name": "LayoutModel",
            "_view_count": null,
            "_view_module": "@jupyter-widgets/base",
            "_view_module_version": "1.2.0",
            "_view_name": "LayoutView",
            "align_content": null,
            "align_items": null,
            "align_self": null,
            "border": null,
            "bottom": null,
            "display": null,
            "flex": null,
            "flex_flow": null,
            "grid_area": null,
            "grid_auto_columns": null,
            "grid_auto_flow": null,
            "grid_auto_rows": null,
            "grid_column": null,
            "grid_gap": null,
            "grid_row": null,
            "grid_template_areas": null,
            "grid_template_columns": null,
            "grid_template_rows": null,
            "height": null,
            "justify_content": null,
            "justify_items": null,
            "left": null,
            "margin": null,
            "max_height": null,
            "max_width": null,
            "min_height": null,
            "min_width": null,
            "object_fit": null,
            "object_position": null,
            "order": null,
            "overflow": null,
            "overflow_x": null,
            "overflow_y": null,
            "padding": null,
            "right": null,
            "top": null,
            "visibility": null,
            "width": null
          }
        },
        "e37a9820d78a4a72b6c2c297a246496c": {
          "model_module": "@jupyter-widgets/controls",
          "model_name": "DescriptionStyleModel",
          "model_module_version": "1.5.0",
          "state": {
            "_model_module": "@jupyter-widgets/controls",
            "_model_module_version": "1.5.0",
            "_model_name": "DescriptionStyleModel",
            "_view_count": null,
            "_view_module": "@jupyter-widgets/base",
            "_view_module_version": "1.2.0",
            "_view_name": "StyleView",
            "description_width": ""
          }
        },
        "71e5b57a0c8742d5a9a1e9e4c6c22fbd": {
          "model_module": "@jupyter-widgets/controls",
          "model_name": "HBoxModel",
          "model_module_version": "1.5.0",
          "state": {
            "_dom_classes": [],
            "_model_module": "@jupyter-widgets/controls",
            "_model_module_version": "1.5.0",
            "_model_name": "HBoxModel",
            "_view_count": null,
            "_view_module": "@jupyter-widgets/controls",
            "_view_module_version": "1.5.0",
            "_view_name": "HBoxView",
            "box_style": "",
            "children": [
              "IPY_MODEL_e1d42fcd28d84dcb94a1654bc7e52e94",
              "IPY_MODEL_6bc27eba1b6b47e6ab0ee0c8acc2ccba",
              "IPY_MODEL_95d07ea12c694bf0aa37a3a9c3731497"
            ],
            "layout": "IPY_MODEL_36cf34f2eaca43828dca918a41c494dc"
          }
        },
        "e1d42fcd28d84dcb94a1654bc7e52e94": {
          "model_module": "@jupyter-widgets/controls",
          "model_name": "HTMLModel",
          "model_module_version": "1.5.0",
          "state": {
            "_dom_classes": [],
            "_model_module": "@jupyter-widgets/controls",
            "_model_module_version": "1.5.0",
            "_model_name": "HTMLModel",
            "_view_count": null,
            "_view_module": "@jupyter-widgets/controls",
            "_view_module_version": "1.5.0",
            "_view_name": "HTMLView",
            "description": "",
            "description_tooltip": null,
            "layout": "IPY_MODEL_b9d2bc7055374973bd2787329f3eeab4",
            "placeholder": "​",
            "style": "IPY_MODEL_e2a07fea091f40dba266669b13d4b78a",
            "value": "100%"
          }
        },
        "6bc27eba1b6b47e6ab0ee0c8acc2ccba": {
          "model_module": "@jupyter-widgets/controls",
          "model_name": "FloatProgressModel",
          "model_module_version": "1.5.0",
          "state": {
            "_dom_classes": [],
            "_model_module": "@jupyter-widgets/controls",
            "_model_module_version": "1.5.0",
            "_model_name": "FloatProgressModel",
            "_view_count": null,
            "_view_module": "@jupyter-widgets/controls",
            "_view_module_version": "1.5.0",
            "_view_name": "ProgressView",
            "bar_style": "success",
            "description": "",
            "description_tooltip": null,
            "layout": "IPY_MODEL_3ed48ec0a0c64c5e861648fc81312a6a",
            "max": 5,
            "min": 0,
            "orientation": "horizontal",
            "style": "IPY_MODEL_5efdf2d679ff41c9b1d2200d699c50ac",
            "value": 5
          }
        },
        "95d07ea12c694bf0aa37a3a9c3731497": {
          "model_module": "@jupyter-widgets/controls",
          "model_name": "HTMLModel",
          "model_module_version": "1.5.0",
          "state": {
            "_dom_classes": [],
            "_model_module": "@jupyter-widgets/controls",
            "_model_module_version": "1.5.0",
            "_model_name": "HTMLModel",
            "_view_count": null,
            "_view_module": "@jupyter-widgets/controls",
            "_view_module_version": "1.5.0",
            "_view_name": "HTMLView",
            "description": "",
            "description_tooltip": null,
            "layout": "IPY_MODEL_f255e4b8c2214c27b82bb82be94763f0",
            "placeholder": "​",
            "style": "IPY_MODEL_5491082c450a46028a76eafc747c69fc",
            "value": " 5/5 [03:45&lt;00:00, 44.93s/it]"
          }
        },
        "36cf34f2eaca43828dca918a41c494dc": {
          "model_module": "@jupyter-widgets/base",
          "model_name": "LayoutModel",
          "model_module_version": "1.2.0",
          "state": {
            "_model_module": "@jupyter-widgets/base",
            "_model_module_version": "1.2.0",
            "_model_name": "LayoutModel",
            "_view_count": null,
            "_view_module": "@jupyter-widgets/base",
            "_view_module_version": "1.2.0",
            "_view_name": "LayoutView",
            "align_content": null,
            "align_items": null,
            "align_self": null,
            "border": null,
            "bottom": null,
            "display": null,
            "flex": null,
            "flex_flow": null,
            "grid_area": null,
            "grid_auto_columns": null,
            "grid_auto_flow": null,
            "grid_auto_rows": null,
            "grid_column": null,
            "grid_gap": null,
            "grid_row": null,
            "grid_template_areas": null,
            "grid_template_columns": null,
            "grid_template_rows": null,
            "height": null,
            "justify_content": null,
            "justify_items": null,
            "left": null,
            "margin": null,
            "max_height": null,
            "max_width": null,
            "min_height": null,
            "min_width": null,
            "object_fit": null,
            "object_position": null,
            "order": null,
            "overflow": null,
            "overflow_x": null,
            "overflow_y": null,
            "padding": null,
            "right": null,
            "top": null,
            "visibility": null,
            "width": null
          }
        },
        "b9d2bc7055374973bd2787329f3eeab4": {
          "model_module": "@jupyter-widgets/base",
          "model_name": "LayoutModel",
          "model_module_version": "1.2.0",
          "state": {
            "_model_module": "@jupyter-widgets/base",
            "_model_module_version": "1.2.0",
            "_model_name": "LayoutModel",
            "_view_count": null,
            "_view_module": "@jupyter-widgets/base",
            "_view_module_version": "1.2.0",
            "_view_name": "LayoutView",
            "align_content": null,
            "align_items": null,
            "align_self": null,
            "border": null,
            "bottom": null,
            "display": null,
            "flex": null,
            "flex_flow": null,
            "grid_area": null,
            "grid_auto_columns": null,
            "grid_auto_flow": null,
            "grid_auto_rows": null,
            "grid_column": null,
            "grid_gap": null,
            "grid_row": null,
            "grid_template_areas": null,
            "grid_template_columns": null,
            "grid_template_rows": null,
            "height": null,
            "justify_content": null,
            "justify_items": null,
            "left": null,
            "margin": null,
            "max_height": null,
            "max_width": null,
            "min_height": null,
            "min_width": null,
            "object_fit": null,
            "object_position": null,
            "order": null,
            "overflow": null,
            "overflow_x": null,
            "overflow_y": null,
            "padding": null,
            "right": null,
            "top": null,
            "visibility": null,
            "width": null
          }
        },
        "e2a07fea091f40dba266669b13d4b78a": {
          "model_module": "@jupyter-widgets/controls",
          "model_name": "DescriptionStyleModel",
          "model_module_version": "1.5.0",
          "state": {
            "_model_module": "@jupyter-widgets/controls",
            "_model_module_version": "1.5.0",
            "_model_name": "DescriptionStyleModel",
            "_view_count": null,
            "_view_module": "@jupyter-widgets/base",
            "_view_module_version": "1.2.0",
            "_view_name": "StyleView",
            "description_width": ""
          }
        },
        "3ed48ec0a0c64c5e861648fc81312a6a": {
          "model_module": "@jupyter-widgets/base",
          "model_name": "LayoutModel",
          "model_module_version": "1.2.0",
          "state": {
            "_model_module": "@jupyter-widgets/base",
            "_model_module_version": "1.2.0",
            "_model_name": "LayoutModel",
            "_view_count": null,
            "_view_module": "@jupyter-widgets/base",
            "_view_module_version": "1.2.0",
            "_view_name": "LayoutView",
            "align_content": null,
            "align_items": null,
            "align_self": null,
            "border": null,
            "bottom": null,
            "display": null,
            "flex": null,
            "flex_flow": null,
            "grid_area": null,
            "grid_auto_columns": null,
            "grid_auto_flow": null,
            "grid_auto_rows": null,
            "grid_column": null,
            "grid_gap": null,
            "grid_row": null,
            "grid_template_areas": null,
            "grid_template_columns": null,
            "grid_template_rows": null,
            "height": null,
            "justify_content": null,
            "justify_items": null,
            "left": null,
            "margin": null,
            "max_height": null,
            "max_width": null,
            "min_height": null,
            "min_width": null,
            "object_fit": null,
            "object_position": null,
            "order": null,
            "overflow": null,
            "overflow_x": null,
            "overflow_y": null,
            "padding": null,
            "right": null,
            "top": null,
            "visibility": null,
            "width": null
          }
        },
        "5efdf2d679ff41c9b1d2200d699c50ac": {
          "model_module": "@jupyter-widgets/controls",
          "model_name": "ProgressStyleModel",
          "model_module_version": "1.5.0",
          "state": {
            "_model_module": "@jupyter-widgets/controls",
            "_model_module_version": "1.5.0",
            "_model_name": "ProgressStyleModel",
            "_view_count": null,
            "_view_module": "@jupyter-widgets/base",
            "_view_module_version": "1.2.0",
            "_view_name": "StyleView",
            "bar_color": null,
            "description_width": ""
          }
        },
        "f255e4b8c2214c27b82bb82be94763f0": {
          "model_module": "@jupyter-widgets/base",
          "model_name": "LayoutModel",
          "model_module_version": "1.2.0",
          "state": {
            "_model_module": "@jupyter-widgets/base",
            "_model_module_version": "1.2.0",
            "_model_name": "LayoutModel",
            "_view_count": null,
            "_view_module": "@jupyter-widgets/base",
            "_view_module_version": "1.2.0",
            "_view_name": "LayoutView",
            "align_content": null,
            "align_items": null,
            "align_self": null,
            "border": null,
            "bottom": null,
            "display": null,
            "flex": null,
            "flex_flow": null,
            "grid_area": null,
            "grid_auto_columns": null,
            "grid_auto_flow": null,
            "grid_auto_rows": null,
            "grid_column": null,
            "grid_gap": null,
            "grid_row": null,
            "grid_template_areas": null,
            "grid_template_columns": null,
            "grid_template_rows": null,
            "height": null,
            "justify_content": null,
            "justify_items": null,
            "left": null,
            "margin": null,
            "max_height": null,
            "max_width": null,
            "min_height": null,
            "min_width": null,
            "object_fit": null,
            "object_position": null,
            "order": null,
            "overflow": null,
            "overflow_x": null,
            "overflow_y": null,
            "padding": null,
            "right": null,
            "top": null,
            "visibility": null,
            "width": null
          }
        },
        "5491082c450a46028a76eafc747c69fc": {
          "model_module": "@jupyter-widgets/controls",
          "model_name": "DescriptionStyleModel",
          "model_module_version": "1.5.0",
          "state": {
            "_model_module": "@jupyter-widgets/controls",
            "_model_module_version": "1.5.0",
            "_model_name": "DescriptionStyleModel",
            "_view_count": null,
            "_view_module": "@jupyter-widgets/base",
            "_view_module_version": "1.2.0",
            "_view_name": "StyleView",
            "description_width": ""
          }
        },
        "180bce9b4e434e45b1fbb6a15f5c874b": {
          "model_module": "@jupyter-widgets/controls",
          "model_name": "HBoxModel",
          "model_module_version": "1.5.0",
          "state": {
            "_dom_classes": [],
            "_model_module": "@jupyter-widgets/controls",
            "_model_module_version": "1.5.0",
            "_model_name": "HBoxModel",
            "_view_count": null,
            "_view_module": "@jupyter-widgets/controls",
            "_view_module_version": "1.5.0",
            "_view_name": "HBoxView",
            "box_style": "",
            "children": [
              "IPY_MODEL_bd275172e3854e53aaa693805a3d6b9e",
              "IPY_MODEL_067a4a5ea03449af8f55eae643717fd7",
              "IPY_MODEL_658a31ef97cc40549299127bf60b613e"
            ],
            "layout": "IPY_MODEL_48a7301689bc464a8de4d76df129bb77"
          }
        },
        "bd275172e3854e53aaa693805a3d6b9e": {
          "model_module": "@jupyter-widgets/controls",
          "model_name": "HTMLModel",
          "model_module_version": "1.5.0",
          "state": {
            "_dom_classes": [],
            "_model_module": "@jupyter-widgets/controls",
            "_model_module_version": "1.5.0",
            "_model_name": "HTMLModel",
            "_view_count": null,
            "_view_module": "@jupyter-widgets/controls",
            "_view_module_version": "1.5.0",
            "_view_name": "HTMLView",
            "description": "",
            "description_tooltip": null,
            "layout": "IPY_MODEL_d998e956714f4ed9b71a1df0bbb30b6e",
            "placeholder": "​",
            "style": "IPY_MODEL_d0edf7da295d4dcfbd0860b7e5f3b6b9",
            "value": "100%"
          }
        },
        "067a4a5ea03449af8f55eae643717fd7": {
          "model_module": "@jupyter-widgets/controls",
          "model_name": "FloatProgressModel",
          "model_module_version": "1.5.0",
          "state": {
            "_dom_classes": [],
            "_model_module": "@jupyter-widgets/controls",
            "_model_module_version": "1.5.0",
            "_model_name": "FloatProgressModel",
            "_view_count": null,
            "_view_module": "@jupyter-widgets/controls",
            "_view_module_version": "1.5.0",
            "_view_name": "ProgressView",
            "bar_style": "success",
            "description": "",
            "description_tooltip": null,
            "layout": "IPY_MODEL_b4b8d2a93d6a4b39aa4cd497be4ef48c",
            "max": 313,
            "min": 0,
            "orientation": "horizontal",
            "style": "IPY_MODEL_15285df1d7914f2ea34a43c82b654141",
            "value": 313
          }
        },
        "658a31ef97cc40549299127bf60b613e": {
          "model_module": "@jupyter-widgets/controls",
          "model_name": "HTMLModel",
          "model_module_version": "1.5.0",
          "state": {
            "_dom_classes": [],
            "_model_module": "@jupyter-widgets/controls",
            "_model_module_version": "1.5.0",
            "_model_name": "HTMLModel",
            "_view_count": null,
            "_view_module": "@jupyter-widgets/controls",
            "_view_module_version": "1.5.0",
            "_view_name": "HTMLView",
            "description": "",
            "description_tooltip": null,
            "layout": "IPY_MODEL_eeb8c8c46b5c474baa4b11aef3237bfd",
            "placeholder": "​",
            "style": "IPY_MODEL_11fcdd38500b45d8bf1b2ae3e1813b24",
            "value": " 313/313 [00:04&lt;00:00, 58.39it/s]"
          }
        },
        "48a7301689bc464a8de4d76df129bb77": {
          "model_module": "@jupyter-widgets/base",
          "model_name": "LayoutModel",
          "model_module_version": "1.2.0",
          "state": {
            "_model_module": "@jupyter-widgets/base",
            "_model_module_version": "1.2.0",
            "_model_name": "LayoutModel",
            "_view_count": null,
            "_view_module": "@jupyter-widgets/base",
            "_view_module_version": "1.2.0",
            "_view_name": "LayoutView",
            "align_content": null,
            "align_items": null,
            "align_self": null,
            "border": null,
            "bottom": null,
            "display": null,
            "flex": null,
            "flex_flow": null,
            "grid_area": null,
            "grid_auto_columns": null,
            "grid_auto_flow": null,
            "grid_auto_rows": null,
            "grid_column": null,
            "grid_gap": null,
            "grid_row": null,
            "grid_template_areas": null,
            "grid_template_columns": null,
            "grid_template_rows": null,
            "height": null,
            "justify_content": null,
            "justify_items": null,
            "left": null,
            "margin": null,
            "max_height": null,
            "max_width": null,
            "min_height": null,
            "min_width": null,
            "object_fit": null,
            "object_position": null,
            "order": null,
            "overflow": null,
            "overflow_x": null,
            "overflow_y": null,
            "padding": null,
            "right": null,
            "top": null,
            "visibility": null,
            "width": null
          }
        },
        "d998e956714f4ed9b71a1df0bbb30b6e": {
          "model_module": "@jupyter-widgets/base",
          "model_name": "LayoutModel",
          "model_module_version": "1.2.0",
          "state": {
            "_model_module": "@jupyter-widgets/base",
            "_model_module_version": "1.2.0",
            "_model_name": "LayoutModel",
            "_view_count": null,
            "_view_module": "@jupyter-widgets/base",
            "_view_module_version": "1.2.0",
            "_view_name": "LayoutView",
            "align_content": null,
            "align_items": null,
            "align_self": null,
            "border": null,
            "bottom": null,
            "display": null,
            "flex": null,
            "flex_flow": null,
            "grid_area": null,
            "grid_auto_columns": null,
            "grid_auto_flow": null,
            "grid_auto_rows": null,
            "grid_column": null,
            "grid_gap": null,
            "grid_row": null,
            "grid_template_areas": null,
            "grid_template_columns": null,
            "grid_template_rows": null,
            "height": null,
            "justify_content": null,
            "justify_items": null,
            "left": null,
            "margin": null,
            "max_height": null,
            "max_width": null,
            "min_height": null,
            "min_width": null,
            "object_fit": null,
            "object_position": null,
            "order": null,
            "overflow": null,
            "overflow_x": null,
            "overflow_y": null,
            "padding": null,
            "right": null,
            "top": null,
            "visibility": null,
            "width": null
          }
        },
        "d0edf7da295d4dcfbd0860b7e5f3b6b9": {
          "model_module": "@jupyter-widgets/controls",
          "model_name": "DescriptionStyleModel",
          "model_module_version": "1.5.0",
          "state": {
            "_model_module": "@jupyter-widgets/controls",
            "_model_module_version": "1.5.0",
            "_model_name": "DescriptionStyleModel",
            "_view_count": null,
            "_view_module": "@jupyter-widgets/base",
            "_view_module_version": "1.2.0",
            "_view_name": "StyleView",
            "description_width": ""
          }
        },
        "b4b8d2a93d6a4b39aa4cd497be4ef48c": {
          "model_module": "@jupyter-widgets/base",
          "model_name": "LayoutModel",
          "model_module_version": "1.2.0",
          "state": {
            "_model_module": "@jupyter-widgets/base",
            "_model_module_version": "1.2.0",
            "_model_name": "LayoutModel",
            "_view_count": null,
            "_view_module": "@jupyter-widgets/base",
            "_view_module_version": "1.2.0",
            "_view_name": "LayoutView",
            "align_content": null,
            "align_items": null,
            "align_self": null,
            "border": null,
            "bottom": null,
            "display": null,
            "flex": null,
            "flex_flow": null,
            "grid_area": null,
            "grid_auto_columns": null,
            "grid_auto_flow": null,
            "grid_auto_rows": null,
            "grid_column": null,
            "grid_gap": null,
            "grid_row": null,
            "grid_template_areas": null,
            "grid_template_columns": null,
            "grid_template_rows": null,
            "height": null,
            "justify_content": null,
            "justify_items": null,
            "left": null,
            "margin": null,
            "max_height": null,
            "max_width": null,
            "min_height": null,
            "min_width": null,
            "object_fit": null,
            "object_position": null,
            "order": null,
            "overflow": null,
            "overflow_x": null,
            "overflow_y": null,
            "padding": null,
            "right": null,
            "top": null,
            "visibility": null,
            "width": null
          }
        },
        "15285df1d7914f2ea34a43c82b654141": {
          "model_module": "@jupyter-widgets/controls",
          "model_name": "ProgressStyleModel",
          "model_module_version": "1.5.0",
          "state": {
            "_model_module": "@jupyter-widgets/controls",
            "_model_module_version": "1.5.0",
            "_model_name": "ProgressStyleModel",
            "_view_count": null,
            "_view_module": "@jupyter-widgets/base",
            "_view_module_version": "1.2.0",
            "_view_name": "StyleView",
            "bar_color": null,
            "description_width": ""
          }
        },
        "eeb8c8c46b5c474baa4b11aef3237bfd": {
          "model_module": "@jupyter-widgets/base",
          "model_name": "LayoutModel",
          "model_module_version": "1.2.0",
          "state": {
            "_model_module": "@jupyter-widgets/base",
            "_model_module_version": "1.2.0",
            "_model_name": "LayoutModel",
            "_view_count": null,
            "_view_module": "@jupyter-widgets/base",
            "_view_module_version": "1.2.0",
            "_view_name": "LayoutView",
            "align_content": null,
            "align_items": null,
            "align_self": null,
            "border": null,
            "bottom": null,
            "display": null,
            "flex": null,
            "flex_flow": null,
            "grid_area": null,
            "grid_auto_columns": null,
            "grid_auto_flow": null,
            "grid_auto_rows": null,
            "grid_column": null,
            "grid_gap": null,
            "grid_row": null,
            "grid_template_areas": null,
            "grid_template_columns": null,
            "grid_template_rows": null,
            "height": null,
            "justify_content": null,
            "justify_items": null,
            "left": null,
            "margin": null,
            "max_height": null,
            "max_width": null,
            "min_height": null,
            "min_width": null,
            "object_fit": null,
            "object_position": null,
            "order": null,
            "overflow": null,
            "overflow_x": null,
            "overflow_y": null,
            "padding": null,
            "right": null,
            "top": null,
            "visibility": null,
            "width": null
          }
        },
        "11fcdd38500b45d8bf1b2ae3e1813b24": {
          "model_module": "@jupyter-widgets/controls",
          "model_name": "DescriptionStyleModel",
          "model_module_version": "1.5.0",
          "state": {
            "_model_module": "@jupyter-widgets/controls",
            "_model_module_version": "1.5.0",
            "_model_name": "DescriptionStyleModel",
            "_view_count": null,
            "_view_module": "@jupyter-widgets/base",
            "_view_module_version": "1.2.0",
            "_view_name": "StyleView",
            "description_width": ""
          }
        }
      }
    }
  },
  "cells": [
    {
      "cell_type": "markdown",
      "source": [
        "#**Getting data**"
      ],
      "metadata": {
        "id": "Isyk-9KG5yHF"
      }
    },
    {
      "cell_type": "code",
      "execution_count": 49,
      "metadata": {
        "id": "BI-gAt8ZX07U"
      },
      "outputs": [],
      "source": [
        "import torch\n",
        "from torch import nn\n",
        "import torchvision\n",
        "from torchvision import datasets\n",
        "from torchvision.transforms import ToTensor\n",
        "import matplotlib.pyplot as plt"
      ]
    },
    {
      "cell_type": "code",
      "source": [
        "from torchvision.datasets.mnist import FashionMNIST\n",
        "train_dataset= datasets.FashionMNIST(root= \"data\", train=True, #train_data\n",
        "                               download=True,\n",
        "                               transform=ToTensor(), #transform to convert image to tensor\n",
        "                               target_transform=None) #transformation on labels\n",
        "\n",
        "test_dataset= datasets.FashionMNIST(root=\"data\",\n",
        "                                    train=False, #tets_data\n",
        "                                    transform=ToTensor(),\n",
        "                                    target_transform=None)"
      ],
      "metadata": {
        "id": "i-com8yRqFn0"
      },
      "execution_count": 50,
      "outputs": []
    },
    {
      "cell_type": "code",
      "source": [
        "train_dataset, test_dataset"
      ],
      "metadata": {
        "colab": {
          "base_uri": "https://localhost:8080/"
        },
        "id": "x0VB8oV7xE5N",
        "outputId": "44b24444-3e00-411d-e056-43fc80abf06f"
      },
      "execution_count": 51,
      "outputs": [
        {
          "output_type": "execute_result",
          "data": {
            "text/plain": [
              "(Dataset FashionMNIST\n",
              "     Number of datapoints: 60000\n",
              "     Root location: data\n",
              "     Split: Train\n",
              "     StandardTransform\n",
              " Transform: ToTensor(),\n",
              " Dataset FashionMNIST\n",
              "     Number of datapoints: 10000\n",
              "     Root location: data\n",
              "     Split: Test\n",
              "     StandardTransform\n",
              " Transform: ToTensor())"
            ]
          },
          "metadata": {},
          "execution_count": 51
        }
      ]
    },
    {
      "cell_type": "code",
      "source": [
        "type(train_dataset)"
      ],
      "metadata": {
        "colab": {
          "base_uri": "https://localhost:8080/"
        },
        "id": "g_oORbz9zWpq",
        "outputId": "f05eba67-3cd5-4b93-e494-810f9e64b2e5"
      },
      "execution_count": 52,
      "outputs": [
        {
          "output_type": "execute_result",
          "data": {
            "text/plain": [
              "torchvision.datasets.mnist.FashionMNIST"
            ]
          },
          "metadata": {},
          "execution_count": 52
        }
      ]
    },
    {
      "cell_type": "code",
      "source": [
        "image, label= train_dataset[0] #IMP: PYTORCH SUPPORTS C*H*W PATTERN HERE CHANNELS COME FIRST\n",
        "image.shape, label"
      ],
      "metadata": {
        "colab": {
          "base_uri": "https://localhost:8080/"
        },
        "id": "Liy5QgBdxVw3",
        "outputId": "52690816-ee97-46b0-8ee4-3030cc361bff"
      },
      "execution_count": 53,
      "outputs": [
        {
          "output_type": "execute_result",
          "data": {
            "text/plain": [
              "(torch.Size([1, 28, 28]), 9)"
            ]
          },
          "metadata": {},
          "execution_count": 53
        }
      ]
    },
    {
      "cell_type": "code",
      "source": [
        "#train_dataset[0][:1] #gives tuples of img, label"
      ],
      "metadata": {
        "id": "wb9eWx0TUarl"
      },
      "execution_count": 54,
      "outputs": []
    },
    {
      "cell_type": "code",
      "source": [
        "class_names=train_dataset.classes\n",
        "class_names"
      ],
      "metadata": {
        "colab": {
          "base_uri": "https://localhost:8080/"
        },
        "id": "TZU7zfxRyyfy",
        "outputId": "a817703a-ae61-4821-bb57-ff413c703299"
      },
      "execution_count": 55,
      "outputs": [
        {
          "output_type": "execute_result",
          "data": {
            "text/plain": [
              "['T-shirt/top',\n",
              " 'Trouser',\n",
              " 'Pullover',\n",
              " 'Dress',\n",
              " 'Coat',\n",
              " 'Sandal',\n",
              " 'Shirt',\n",
              " 'Sneaker',\n",
              " 'Bag',\n",
              " 'Ankle boot']"
            ]
          },
          "metadata": {},
          "execution_count": 55
        }
      ]
    },
    {
      "cell_type": "code",
      "source": [
        "class_to_idx= train_dataset.class_to_idx\n",
        "class_to_idx"
      ],
      "metadata": {
        "colab": {
          "base_uri": "https://localhost:8080/"
        },
        "id": "EOgvjUyXzAIx",
        "outputId": "bdd373e4-c584-4e7f-9145-93d3ed29c0f4"
      },
      "execution_count": 56,
      "outputs": [
        {
          "output_type": "execute_result",
          "data": {
            "text/plain": [
              "{'T-shirt/top': 0,\n",
              " 'Trouser': 1,\n",
              " 'Pullover': 2,\n",
              " 'Dress': 3,\n",
              " 'Coat': 4,\n",
              " 'Sandal': 5,\n",
              " 'Shirt': 6,\n",
              " 'Sneaker': 7,\n",
              " 'Bag': 8,\n",
              " 'Ankle boot': 9}"
            ]
          },
          "metadata": {},
          "execution_count": 56
        }
      ]
    },
    {
      "cell_type": "code",
      "source": [
        "train_dataset.targets, train_dataset.targets.shape"
      ],
      "metadata": {
        "colab": {
          "base_uri": "https://localhost:8080/"
        },
        "id": "GL3gUQK948To",
        "outputId": "45948c7b-c80c-4ce0-a0fc-3fe316a1ab5f"
      },
      "execution_count": 57,
      "outputs": [
        {
          "output_type": "execute_result",
          "data": {
            "text/plain": [
              "(tensor([9, 0, 0,  ..., 3, 0, 5]), torch.Size([60000]))"
            ]
          },
          "metadata": {},
          "execution_count": 57
        }
      ]
    },
    {
      "cell_type": "markdown",
      "source": [
        "##**Visualising data**"
      ],
      "metadata": {
        "id": "1R4KAnmsbNSW"
      }
    },
    {
      "cell_type": "code",
      "source": [
        "import random\n",
        "\n",
        "r, c= 3, 3\n",
        "plt.figure(figsize=(7, 10))\n",
        "for i in range( 1, 1+r*c):\n",
        "\n",
        "  rand_idx= random.randint(0, len(train_dataset))\n",
        "\n",
        "  plt.subplot(3,3,i)\n",
        "  img, label= train_dataset[rand_idx]\n",
        "  plt.imshow(img.squeeze()) #img shape=[1,28,28] we need to remve the color channel dim in 0th pos \n",
        "  plt.title(f\"{class_names[label]}\")\n",
        "  plt.axis(\"off\")"
      ],
      "metadata": {
        "colab": {
          "base_uri": "https://localhost:8080/",
          "height": 762
        },
        "id": "Ap1SPURRYdaz",
        "outputId": "e4e71465-b36c-4eb9-de04-4017dfdda5f5"
      },
      "execution_count": 58,
      "outputs": [
        {
          "output_type": "display_data",
          "data": {
            "text/plain": [
              "<Figure size 700x1000 with 9 Axes>"
            ],
            "image/png": "[encoded data removed]"
          },
          "metadata": {}
        }
      ]
    },
    {
      "cell_type": "markdown",
      "source": [
        "##**Loading data**"
      ],
      "metadata": {
        "id": "K4BBLPmQbTX-"
      }
    },
    {
      "cell_type": "markdown",
      "source": [
        "**Batching**:\n",
        "* it is computaionally more efficient, as our computer might not be able to look at all the data at once\n",
        "* it gives our model more chances to update its weights, ie it can now update its weights after every batch instead of looking at the entire data."
      ],
      "metadata": {
        "id": "TEKNv8U9bzqn"
      }
    },
    {
      "cell_type": "code",
      "source": [
        "train_dataset=torch.utils.data.DataLoader(dataset= train_dataset,\n",
        "                                         batch_size=32,\n",
        "                                         shuffle=True)\n",
        "\n",
        "test_dataset=torch.utils.data.DataLoader(dataset= test_dataset,\n",
        "                                         batch_size= 32,\n",
        "                                         shuffle=False)"
      ],
      "metadata": {
        "id": "1h6crxu3bWy4"
      },
      "execution_count": 59,
      "outputs": []
    },
    {
      "cell_type": "code",
      "source": [
        "train_dataset, test_dataset"
      ],
      "metadata": {
        "colab": {
          "base_uri": "https://localhost:8080/"
        },
        "id": "2UOY6sR3dGKT",
        "outputId": "0ab6c66e-c284-4e67-8e65-faa800604a6c"
      },
      "execution_count": 60,
      "outputs": [
        {
          "output_type": "execute_result",
          "data": {
            "text/plain": [
              "(<torch.utils.data.dataloader.DataLoader at 0x7fcadaf711c0>,\n",
              " <torch.utils.data.dataloader.DataLoader at 0x7fcadaf71d00>)"
            ]
          },
          "metadata": {},
          "execution_count": 60
        }
      ]
    },
    {
      "cell_type": "code",
      "source": [
        "imgs, labels= next(iter(train_dataset))\n",
        "imgs.shape, labels.shape"
      ],
      "metadata": {
        "colab": {
          "base_uri": "https://localhost:8080/"
        },
        "id": "I2y3ZiJgdNQ6",
        "outputId": "784e5e32-2598-45c0-e11a-1d80ed573add"
      },
      "execution_count": 61,
      "outputs": [
        {
          "output_type": "execute_result",
          "data": {
            "text/plain": [
              "(torch.Size([32, 1, 28, 28]), torch.Size([32]))"
            ]
          },
          "metadata": {},
          "execution_count": 61
        }
      ]
    },
    {
      "cell_type": "markdown",
      "source": [
        "#**Model_0:**Dense"
      ],
      "metadata": {
        "id": "tsPymQDmgwg3"
      }
    },
    {
      "cell_type": "code",
      "source": [
        "device=\"cuda\" if torch.cuda.is_available() else \"cpu\"\n",
        "device"
      ],
      "metadata": {
        "colab": {
          "base_uri": "https://localhost:8080/",
          "height": 36
        },
        "id": "BHKZo9LdIQxV",
        "outputId": "3dcff67b-28b0-4833-89df-0e79b6b47d68"
      },
      "execution_count": 62,
      "outputs": [
        {
          "output_type": "execute_result",
          "data": {
            "text/plain": [
              "'cpu'"
            ],
            "application/vnd.google.colaboratory.intrinsic+json": {
              "type": "string"
            }
          },
          "metadata": {},
          "execution_count": 62
        }
      ]
    },
    {
      "cell_type": "code",
      "source": [
        "import requests\n",
        "from pathlib import Path\n",
        "\n",
        "if Path(\"helper_functions.py\").is_file():\n",
        "  print(\"already exists, skipping download!\")\n",
        "else:\n",
        "  print(\"downloading helper functions.py\")\n",
        "  file_r= requests.get(\"https://raw.githubusercontent.com/Jothish2283/DeepLearning-Torch/main/helper_functions.py\")\n",
        "  with open(\"helper_functions.py\", \"wb\") as f:\n",
        "    f.write(file_r.content)"
      ],
      "metadata": {
        "colab": {
          "base_uri": "https://localhost:8080/"
        },
        "id": "gz5wdFLvnSDv",
        "outputId": "d5d8bbc3-e994-4c8f-a25d-bf24b2a99215"
      },
      "execution_count": 63,
      "outputs": [
        {
          "output_type": "stream",
          "name": "stdout",
          "text": [
            "already exists, skipping download!\n"
          ]
        }
      ]
    },
    {
      "cell_type": "code",
      "source": [
        "model_0=torch.nn.Sequential(nn.Flatten(),\n",
        "                            nn.Linear(28*28, 64),\n",
        "                            nn.ReLU(),\n",
        "                            nn.Linear(64,64),\n",
        "                            nn.ReLU(),\n",
        "                            nn.Linear(64,64),\n",
        "                            nn.ReLU(),\n",
        "                            nn.Linear(64,len(class_names)),\n",
        "                            nn.Softmax()).to(device)\n",
        "model_0"
      ],
      "metadata": {
        "colab": {
          "base_uri": "https://localhost:8080/"
        },
        "id": "cOO5cJ4PgV-7",
        "outputId": "621b3721-5805-46f7-f679-c5a5f7755028"
      },
      "execution_count": 64,
      "outputs": [
        {
          "output_type": "execute_result",
          "data": {
            "text/plain": [
              "Sequential(\n",
              "  (0): Flatten(start_dim=1, end_dim=-1)\n",
              "  (1): Linear(in_features=784, out_features=64, bias=True)\n",
              "  (2): ReLU()\n",
              "  (3): Linear(in_features=64, out_features=64, bias=True)\n",
              "  (4): ReLU()\n",
              "  (5): Linear(in_features=64, out_features=64, bias=True)\n",
              "  (6): ReLU()\n",
              "  (7): Linear(in_features=64, out_features=10, bias=True)\n",
              "  (8): Softmax(dim=None)\n",
              ")"
            ]
          },
          "metadata": {},
          "execution_count": 64
        }
      ]
    },
    {
      "cell_type": "code",
      "source": [
        "loss_fn= nn.CrossEntropyLoss()\n",
        "optimizer= torch.optim.Adam(model_0.parameters())"
      ],
      "metadata": {
        "id": "-s1iEcZNhpYE"
      },
      "execution_count": 65,
      "outputs": []
    },
    {
      "cell_type": "markdown",
      "source": [
        "##**Training Loop**"
      ],
      "metadata": {
        "id": "jSW4AYXlinCN"
      }
    },
    {
      "cell_type": "code",
      "source": [
        "import time\n",
        "from tqdm.auto import tqdm #to get a progress bar\n",
        "from helper_functions import accuracy_fn\n",
        "\n",
        "epochs=5\n",
        "\n",
        "start=time.time()\n",
        "for epoch in tqdm(range(epochs)):\n",
        "  print(f\"---Epoch:{epoch+1}---\\n\")\n",
        "  train_loss, train_acc=0, 0\n",
        "  for x, y in train_dataset:\n",
        "\n",
        "    model_0.train()\n",
        "    y_preds=model_0(x.to(device))\n",
        "\n",
        "    loss= loss_fn(y_preds, y.to(device))\n",
        "    acc=accuracy_fn(y.to(device), y_preds.argmax(dim=1))\n",
        "\n",
        "    train_loss=loss.item()+train_loss\n",
        "    train_acc= acc+train_acc\n",
        "\n",
        "    optimizer.zero_grad()\n",
        "\n",
        "    loss.backward()\n",
        "\n",
        "    optimizer.step()\n",
        "  \n",
        "  avg_loss_per_epoch= train_loss/len(train_dataset)\n",
        "  avg_acc_per_epoch= train_acc/(len(train_dataset)*100)\n",
        "  print(f\"train_loss:{avg_loss_per_epoch :.3f} train_acc:{avg_acc_per_epoch :.3f}\")\n",
        "\n",
        "  test_loss, test_acc=0, 0\n",
        "  model_0.eval()\n",
        "  with torch.inference_mode():\n",
        "    for x_t, y_t in test_dataset:\n",
        "      y_preds_t=model_0(x_t.to(device))\n",
        "\n",
        "      loss=loss_fn(y_preds_t, y_t.to(device))\n",
        "      acc=accuracy_fn(y_t.to(device), y_preds_t.argmax(dim=1))\n",
        "\n",
        "      test_loss=test_loss+loss.item()\n",
        "      test_acc=test_acc+acc\n",
        "    \n",
        "    avg_loss_per_epoch= test_loss/(len(test_dataset))\n",
        "    avg_acc_per_epoch= test_acc/(len(test_dataset)*100)\n",
        "    \n",
        "    print(f\"test_loss:{avg_loss_per_epoch :.3f} test_acc:{avg_acc_per_epoch :.3f}\\n\")\n",
        "\n",
        "end=time.time()\n",
        "model_0_time=(end-start)/60\n",
        "print(f\"time taken= {model_0_time :.2f} mins\")"
      ],
      "metadata": {
        "colab": {
          "base_uri": "https://localhost:8080/",
          "height": 535,
          "referenced_widgets": [
            "712c98fb203c4df1bde2b4ed52ea1248",
            "8fc7c7f5420d451b91192cc2cbb14b16",
            "f4aa294d6a334b10bc66d5c22e7370c1",
            "842b2ff0d5674e58bb6e4cd9a4abc1dc",
            "e54a223560e84f9c9a49ccb86d84bf11",
            "20efd3303de54627a47c34e27e79fb5a",
            "92531e9cae544aff93b210f44ca7c43f",
            "fdd705b49bcb442987dd78ad62499e5d",
            "4f36dff5bf4449d68b417baf40784bab",
            "c796dcdde6d2414fb21e6f7ca358b535",
            "a2d3dc706325498db8dd6530d6a10fd4"
          ]
        },
        "id": "BhjdYBxyilv_",
        "outputId": "4d3e2018-9629-4fae-f03e-c5009c904430"
      },
      "execution_count": 66,
      "outputs": [
        {
          "output_type": "display_data",
          "data": {
            "text/plain": [
              "  0%|          | 0/5 [00:00<?, ?it/s]"
            ],
            "application/vnd.jupyter.widget-view+json": {
              "version_major": 2,
              "version_minor": 0,
              "model_id": "712c98fb203c4df1bde2b4ed52ea1248"
            }
          },
          "metadata": {}
        },
        {
          "output_type": "stream",
          "name": "stdout",
          "text": [
            "---Epoch:1---\n",
            "\n"
          ]
        },
        {
          "output_type": "stream",
          "name": "stderr",
          "text": [
            "/usr/local/lib/python3.9/dist-packages/torch/nn/modules/container.py:217: UserWarning: Implicit dimension choice for softmax has been deprecated. Change the call to include dim=X as an argument.\n",
            "  input = module(input)\n"
          ]
        },
        {
          "output_type": "stream",
          "name": "stdout",
          "text": [
            "train_loss:1.743 train_acc:0.724\n",
            "test_loss:1.710 test_acc:0.752\n",
            "\n",
            "---Epoch:2---\n",
            "\n",
            "train_loss:1.689 train_acc:0.772\n",
            "test_loss:1.693 test_acc:0.767\n",
            "\n",
            "---Epoch:3---\n",
            "\n",
            "train_loss:1.678 train_acc:0.783\n",
            "test_loss:1.682 test_acc:0.779\n",
            "\n",
            "---Epoch:4---\n",
            "\n",
            "train_loss:1.673 train_acc:0.788\n",
            "test_loss:1.688 test_acc:0.772\n",
            "\n",
            "---Epoch:5---\n",
            "\n",
            "train_loss:1.668 train_acc:0.793\n",
            "test_loss:1.678 test_acc:0.782\n",
            "\n",
            "time taken= 1.36 mins\n"
          ]
        }
      ]
    },
    {
      "cell_type": "markdown",
      "source": [
        "**Evaluation**"
      ],
      "metadata": {
        "id": "-OUo7auhIBr7"
      }
    },
    {
      "cell_type": "code",
      "source": [
        "def eval_model(model: torch.nn.Module,\n",
        "              test_dataset: torch.utils.data.DataLoader= test_dataset,\n",
        "              loss_fn: torch.nn.Module = loss_fn,\n",
        "              acc_fn= accuracy_fn):\n",
        "   \n",
        "  acc, loss=0, 0\n",
        "  model.to(\"cpu\")\n",
        "  with torch.inference_mode():\n",
        "    for x, y in tqdm(test_dataset):\n",
        "      x, y= x.cpu(), y.cpu()\n",
        "      y_preds=model(x)\n",
        "      loss+=loss_fn(y_preds, y)\n",
        "      acc+=acc_fn(y, y_preds.argmax(dim=1))\n",
        "    loss/=len(test_dataset)\n",
        "    acc/=len(test_dataset)\n",
        "\n",
        "    return {\"val_loss\":loss.item(), \"val_acc\":acc}"
      ],
      "metadata": {
        "id": "-RbRLNDZFYem"
      },
      "execution_count": 67,
      "outputs": []
    },
    {
      "cell_type": "code",
      "source": [
        "model_0_res=eval_model(model_0)\n",
        "model_0_res"
      ],
      "metadata": {
        "colab": {
          "base_uri": "https://localhost:8080/",
          "height": 66,
          "referenced_widgets": [
            "d5ea2ed5956744d5b240c42dd366856a",
            "0df275e0be974d04a05a5528edd72f7d",
            "100766deca0149088c36fe09ddbd2be7",
            "66bb423d658f4bc68dde67c86349bb36",
            "6a2bbee9156040f2abfccdd7d7904ab2",
            "fe133860eada499bb5aca8397f35466e",
            "12da6b6d74774deabe9df757d6952aee",
            "420afd29b2dc480fa5e2eec3bd178057",
            "e9466546eec24226bfd99e1e3f11e44e",
            "761649bdaec1481581af5bfe61f7ba29",
            "e37a9820d78a4a72b6c2c297a246496c"
          ]
        },
        "id": "M1A0Qt9SHO_b",
        "outputId": "22ec74cf-73e6-4101-cd1c-f48b8c30a062"
      },
      "execution_count": 68,
      "outputs": [
        {
          "output_type": "display_data",
          "data": {
            "text/plain": [
              "  0%|          | 0/313 [00:00<?, ?it/s]"
            ],
            "application/vnd.jupyter.widget-view+json": {
              "version_major": 2,
              "version_minor": 0,
              "model_id": "d5ea2ed5956744d5b240c42dd366856a"
            }
          },
          "metadata": {}
        },
        {
          "output_type": "execute_result",
          "data": {
            "text/plain": [
              "{'val_loss': 1.6783480644226074, 'val_acc': 78.15495207667732}"
            ]
          },
          "metadata": {},
          "execution_count": 68
        }
      ]
    },
    {
      "cell_type": "markdown",
      "source": [
        "#**Model_1:** CNN"
      ],
      "metadata": {
        "id": "n-QP33XBSSfP"
      }
    },
    {
      "cell_type": "code",
      "source": [
        "model_1= torch.nn.Sequential(nn.Conv2d(in_channels=1, out_channels=16, kernel_size=3),\n",
        "                             nn.ReLU(),\n",
        "                             nn.Conv2d(in_channels=16, out_channels=16, kernel_size=3),\n",
        "                             nn.ReLU(),\n",
        "                             nn.MaxPool2d(kernel_size=2),\n",
        "                             nn.Conv2d(in_channels=16, out_channels=16, kernel_size=3),\n",
        "                             nn.ReLU(),\n",
        "                             nn.MaxPool2d(kernel_size=2),\n",
        "                             nn.Flatten(),\n",
        "                             nn.Linear(in_features=400, out_features=len(class_names)),\n",
        "                             nn.Softmax()).to(device)\n",
        "\n",
        "model_1"
      ],
      "metadata": {
        "colab": {
          "base_uri": "https://localhost:8080/"
        },
        "id": "6FlDdSjqLDm0",
        "outputId": "b730358f-dbb3-44bd-8c8b-e4c4fc39baf7"
      },
      "execution_count": 69,
      "outputs": [
        {
          "output_type": "execute_result",
          "data": {
            "text/plain": [
              "Sequential(\n",
              "  (0): Conv2d(1, 16, kernel_size=(3, 3), stride=(1, 1))\n",
              "  (1): ReLU()\n",
              "  (2): Conv2d(16, 16, kernel_size=(3, 3), stride=(1, 1))\n",
              "  (3): ReLU()\n",
              "  (4): MaxPool2d(kernel_size=2, stride=2, padding=0, dilation=1, ceil_mode=False)\n",
              "  (5): Conv2d(16, 16, kernel_size=(3, 3), stride=(1, 1))\n",
              "  (6): ReLU()\n",
              "  (7): MaxPool2d(kernel_size=2, stride=2, padding=0, dilation=1, ceil_mode=False)\n",
              "  (8): Flatten(start_dim=1, end_dim=-1)\n",
              "  (9): Linear(in_features=400, out_features=10, bias=True)\n",
              "  (10): Softmax(dim=None)\n",
              ")"
            ]
          },
          "metadata": {},
          "execution_count": 69
        }
      ]
    },
    {
      "cell_type": "code",
      "source": [
        "loss_fn=nn.CrossEntropyLoss()\n",
        "optimizer= torch.optim.Adam(params= model_1.parameters())"
      ],
      "metadata": {
        "id": "7vrdwVxqxc2x"
      },
      "execution_count": 70,
      "outputs": []
    },
    {
      "cell_type": "markdown",
      "source": [
        "##**Training Loop**"
      ],
      "metadata": {
        "id": "F3wcKqHZITwB"
      }
    },
    {
      "cell_type": "code",
      "source": [
        "epochs=5\n",
        "train_loss, acc=0, 0\n",
        "\n",
        "start=time.time()\n",
        "for epoch in tqdm(range(epochs)):\n",
        "  \n",
        "  print(f\"---epoch:{epoch+1}---\\n\")\n",
        "  model_1.train()\n",
        "  for x, y in train_dataset:\n",
        "    x, y= x.to(device), y.to(device)\n",
        "    y_preds=model_1(x)\n",
        "\n",
        "    loss=loss_fn(y_preds, y)\n",
        "\n",
        "    train_loss+=loss.item()\n",
        "    acc+=accuracy_fn(y, y_preds.argmax(dim=1))\n",
        "\n",
        "    optimizer.zero_grad()\n",
        "\n",
        "    loss.backward()\n",
        "\n",
        "    optimizer.step()\n",
        "\n",
        "  avg_loss=train_loss/len(train_dataset)\n",
        "  avg_acc=acc/len(train_dataset)\n",
        "  print(f\"train_loss:{avg_loss :.4f} train_acc:{avg_acc/100 :.3f}\")\n",
        "\n",
        "  loss, acc= 0, 0\n",
        "\n",
        "  model_1.eval()\n",
        "\n",
        "  with torch.inference_mode():\n",
        "\n",
        "    for x, y in test_dataset:\n",
        "      x, y= x.to(device), y.to(device)\n",
        "      y_preds=model_1(x)\n",
        "\n",
        "      loss+=loss_fn(y_preds, y).item()\n",
        "      acc+=accuracy_fn(y, y_preds.argmax(dim=1))\n",
        "    \n",
        "    avg_loss=loss/len(test_dataset)\n",
        "    avg_acc= acc/len(test_dataset)\n",
        "    print(f\"val_loss:{avg_loss :.4f} val_acc:{avg_acc/100 :.3f}\\n\")\n",
        "\n",
        "end=time.time()\n",
        "model_1_time=(end-start)/60\n",
        "print(f\"Time taken:{model_1_time :.2f} mins\")"
      ],
      "metadata": {
        "colab": {
          "base_uri": "https://localhost:8080/",
          "height": 500,
          "referenced_widgets": [
            "71e5b57a0c8742d5a9a1e9e4c6c22fbd",
            "e1d42fcd28d84dcb94a1654bc7e52e94",
            "6bc27eba1b6b47e6ab0ee0c8acc2ccba",
            "95d07ea12c694bf0aa37a3a9c3731497",
            "36cf34f2eaca43828dca918a41c494dc",
            "b9d2bc7055374973bd2787329f3eeab4",
            "e2a07fea091f40dba266669b13d4b78a",
            "3ed48ec0a0c64c5e861648fc81312a6a",
            "5efdf2d679ff41c9b1d2200d699c50ac",
            "f255e4b8c2214c27b82bb82be94763f0",
            "5491082c450a46028a76eafc747c69fc"
          ]
        },
        "id": "6OhtmJrMv9hO",
        "outputId": "0ac7b132-f8fe-4d00-c102-27167b733b71"
      },
      "execution_count": 71,
      "outputs": [
        {
          "output_type": "display_data",
          "data": {
            "text/plain": [
              "  0%|          | 0/5 [00:00<?, ?it/s]"
            ],
            "application/vnd.jupyter.widget-view+json": {
              "version_major": 2,
              "version_minor": 0,
              "model_id": "71e5b57a0c8742d5a9a1e9e4c6c22fbd"
            }
          },
          "metadata": {}
        },
        {
          "output_type": "stream",
          "name": "stdout",
          "text": [
            "---epoch:1---\n",
            "\n",
            "train_loss:1.7210 train_acc:0.743\n",
            "val_loss:1.6680 val_acc:0.794\n",
            "\n",
            "---epoch:2---\n",
            "\n",
            "train_loss:3.3735 train_acc:0.941\n",
            "val_loss:1.6548 val_acc:0.807\n",
            "\n",
            "---epoch:3---\n",
            "\n",
            "train_loss:5.0138 train_acc:0.956\n",
            "val_loss:1.6406 val_acc:0.821\n",
            "\n",
            "---epoch:4---\n",
            "\n",
            "train_loss:6.6334 train_acc:0.979\n",
            "val_loss:1.6076 val_acc:0.853\n",
            "\n",
            "---epoch:5---\n",
            "\n",
            "train_loss:8.2286 train_acc:1.008\n",
            "val_loss:1.6008 val_acc:0.861\n",
            "\n",
            "Time taken:3.76 mins\n"
          ]
        }
      ]
    },
    {
      "cell_type": "markdown",
      "source": [
        "**Evaluation**"
      ],
      "metadata": {
        "id": "EBwpEtIOMaiq"
      }
    },
    {
      "cell_type": "code",
      "source": [
        "model_1_res=eval_model(model_1)\n",
        "model_1_res"
      ],
      "metadata": {
        "colab": {
          "base_uri": "https://localhost:8080/",
          "height": 66,
          "referenced_widgets": [
            "180bce9b4e434e45b1fbb6a15f5c874b",
            "bd275172e3854e53aaa693805a3d6b9e",
            "067a4a5ea03449af8f55eae643717fd7",
            "658a31ef97cc40549299127bf60b613e",
            "48a7301689bc464a8de4d76df129bb77",
            "d998e956714f4ed9b71a1df0bbb30b6e",
            "d0edf7da295d4dcfbd0860b7e5f3b6b9",
            "b4b8d2a93d6a4b39aa4cd497be4ef48c",
            "15285df1d7914f2ea34a43c82b654141",
            "eeb8c8c46b5c474baa4b11aef3237bfd",
            "11fcdd38500b45d8bf1b2ae3e1813b24"
          ]
        },
        "id": "5qbM03EH-dPN",
        "outputId": "bccee26d-6b85-4ba3-ef64-992d6cb8eced"
      },
      "execution_count": 72,
      "outputs": [
        {
          "output_type": "display_data",
          "data": {
            "text/plain": [
              "  0%|          | 0/313 [00:00<?, ?it/s]"
            ],
            "application/vnd.jupyter.widget-view+json": {
              "version_major": 2,
              "version_minor": 0,
              "model_id": "180bce9b4e434e45b1fbb6a15f5c874b"
            }
          },
          "metadata": {}
        },
        {
          "output_type": "execute_result",
          "data": {
            "text/plain": [
              "{'val_loss': 1.6008062362670898, 'val_acc': 86.10223642172524}"
            ]
          },
          "metadata": {},
          "execution_count": 72
        }
      ]
    },
    {
      "cell_type": "markdown",
      "source": [
        "#**Visualising results**"
      ],
      "metadata": {
        "id": "vnuMS1W_ys1X"
      }
    },
    {
      "cell_type": "code",
      "source": [
        "test_dataset= datasets.FashionMNIST(root=\"data\",\n",
        "                                    train=False, #tets_data\n",
        "                                    transform=ToTensor(),\n",
        "                                    target_transform=None)\n",
        "\n",
        "test_dataset=torch.utils.data.DataLoader(dataset= test_dataset,\n",
        "                                         batch_size= 32,\n",
        "                                         shuffle=False)"
      ],
      "metadata": {
        "id": "zsm7R7zA7kdI"
      },
      "execution_count": 73,
      "outputs": []
    },
    {
      "cell_type": "code",
      "source": [
        "import random\n",
        "\n",
        "def view_res(model):\n",
        "  rand_batch=random.randint(1, len(test_dataset))\n",
        "  rand_idx=random.randint(1, 32-9) #from that index we r gonna take the next 9 samples\n",
        "  for batch, (x,y) in enumerate(test_dataset):\n",
        "    if batch==rand_batch:\n",
        "      test_img=x[rand_idx:rand_idx+9,:,:]\n",
        "      test_labels=y[rand_idx:rand_idx+9]\n",
        "\n",
        "      model.eval()\n",
        "      \n",
        "      with torch.inference_mode():\n",
        "        y_preds_s=model(test_img)\n",
        "        y_preds=y_preds_s.argmax(dim=1)\n",
        "        y_preds=y_preds.numpy()\n",
        "        y=y.numpy()\n",
        "        prob=torch.max(y_preds_s,dim=1)\n",
        "\n",
        "      plt.figure(figsize=(13,13))\n",
        "      for i in range(9):\n",
        "        plt.subplot(3,3,i+1)\n",
        "        plt.imshow(test_img[i].squeeze())\n",
        "        plt.axis(\"off\")\n",
        "        \n",
        "        if y_preds[i]==y[i+rand_idx]:\n",
        "          plt.title(f\"true_class:{class_names[y[rand_idx+i]]}\\npred_class:{class_names[y_preds[i]]}\\nprob:{prob[0][i] :.2f}\", c=\"g\", fontsize=8)\n",
        "        else:\n",
        "          plt.title(f\"true_class:{class_names[y[i+rand_idx]]}\\npred_class:{class_names[y_preds[i]]}\\nprob:{prob[0][i] :.2f}\", c=\"r\", fontsize=8)\n",
        "      plt.show()"
      ],
      "metadata": {
        "id": "1I-z1wUvywxE"
      },
      "execution_count": 74,
      "outputs": []
    },
    {
      "cell_type": "code",
      "source": [
        "view_res(model_0)"
      ],
      "metadata": {
        "colab": {
          "base_uri": "https://localhost:8080/",
          "height": 1000
        },
        "id": "p4LKRoY0KOy_",
        "outputId": "c3266eb8-87bf-4e8f-b0ea-99b450ccccc7"
      },
      "execution_count": 75,
      "outputs": [
        {
          "output_type": "display_data",
          "data": {
            "text/plain": [
              "<Figure size 1300x1300 with 9 Axes>"
            ],
            "image/png": "[encoded data removed]"
          },
          "metadata": {}
        }
      ]
    },
    {
      "cell_type": "code",
      "source": [
        "view_res(model_1)"
      ],
      "metadata": {
        "colab": {
          "base_uri": "https://localhost:8080/",
          "height": 1000
        },
        "id": "BZeNJZfQ6auQ",
        "outputId": "77d19209-4f2b-4d6e-be9f-1c85c3f15ca0"
      },
      "execution_count": 76,
      "outputs": [
        {
          "output_type": "display_data",
          "data": {
            "text/plain": [
              "<Figure size 1300x1300 with 9 Axes>"
            ],
            "image/png": "[encoded data removed]"
          },
          "metadata": {}
        }
      ]
    },
    {
      "cell_type": "markdown",
      "source": [
        "#**Conclusion**"
      ],
      "metadata": {
        "id": "svGpjrZLMgOA"
      }
    },
    {
      "cell_type": "code",
      "source": [
        "import pandas as pd\n",
        "df=pd.DataFrame([model_0_res, model_1_res])\n",
        "df[\"model_name\"]=[\"model_0 [Dense]\", \"model_1[CNN]\"]\n",
        "df[\"time [mins]\"]=[model_0_time, model_1_time]\n",
        "df=df.set_index(\"model_name\")\n",
        "df"
      ],
      "metadata": {
        "colab": {
          "base_uri": "https://localhost:8080/",
          "height": 143
        },
        "id": "GpwmJmCcLocx",
        "outputId": "1a0f6465-0907-42a4-a727-3e33459807de"
      },
      "execution_count": 77,
      "outputs": [
        {
          "output_type": "execute_result",
          "data": {
            "text/plain": [
              "                 val_loss    val_acc  time [mins]\n",
              "model_name                                       \n",
              "model_0 [Dense]  1.678348  78.154952     1.361833\n",
              "model_1[CNN]     1.600806  86.102236     3.758875"
            ],
            "text/html": [
              "\n",
              "  <div id=\"df-51cf5377-9f30-47f0-84c9-c1bec59452d8\">\n",
              "    <div class=\"colab-df-container\">\n",
              "      <div>\n",
              "<style scoped>\n",
              "    .dataframe tbody tr th:only-of-type {\n",
              "        vertical-align: middle;\n",
              "    }\n",
              "\n",
              "    .dataframe tbody tr th {\n",
              "        vertical-align: top;\n",
              "    }\n",
              "\n",
              "    .dataframe thead th {\n",
              "        text-align: right;\n",
              "    }\n",
              "</style>\n",
              "<table border=\"1\" class=\"dataframe\">\n",
              "  <thead>\n",
              "    <tr style=\"text-align: right;\">\n",
              "      <th></th>\n",
              "      <th>val_loss</th>\n",
              "      <th>val_acc</th>\n",
              "      <th>time [mins]</th>\n",
              "    </tr>\n",
              "    <tr>\n",
              "      <th>model_name</th>\n",
              "      <th></th>\n",
              "      <th></th>\n",
              "      <th></th>\n",
              "    </tr>\n",
              "  </thead>\n",
              "  <tbody>\n",
              "    <tr>\n",
              "      <th>model_0 [Dense]</th>\n",
              "      <td>1.678348</td>\n",
              "      <td>78.154952</td>\n",
              "      <td>1.361833</td>\n",
              "    </tr>\n",
              "    <tr>\n",
              "      <th>model_1[CNN]</th>\n",
              "      <td>1.600806</td>\n",
              "      <td>86.102236</td>\n",
              "      <td>3.758875</td>\n",
              "    </tr>\n",
              "  </tbody>\n",
              "</table>\n",
              "</div>\n",
              "      <button class=\"colab-df-convert\" onclick=\"convertToInteractive('df-51cf5377-9f30-47f0-84c9-c1bec59452d8')\"\n",
              "              title=\"Convert this dataframe to an interactive table.\"\n",
              "              style=\"display:none;\">\n",
              "        \n",
              "  <svg xmlns=\"http://www.w3.org/2000/svg\" height=\"24px\"viewBox=\"0 0 24 24\"\n",
              "       width=\"24px\">\n",
              "    <path d=\"M0 0h24v24H0V0z\" fill=\"none\"/>\n",
              "    <path d=\"M18.56 5.44l.94 2.06.94-2.06 2.06-.94-2.06-.94-.94-2.06-.94 2.06-2.06.94zm-11 1L8.5 8.5l.94-2.06 2.06-.94-2.06-.94L8.5 2.5l-.94 2.06-2.06.94zm10 10l.94 2.06.94-2.06 2.06-.94-2.06-.94-.94-2.06-.94 2.06-2.06.94z\"/><path d=\"M17.41 7.96l-1.37-1.37c-.4-.4-.92-.59-1.43-.59-.52 0-1.04.2-1.43.59L10.3 9.45l-7.72 7.72c-.78.78-.78 2.05 0 2.83L4 21.41c.39.39.9.59 1.41.59.51 0 1.02-.2 1.41-.59l7.78-7.78 2.81-2.81c.8-.78.8-2.07 0-2.86zM5.41 20L4 18.59l7.72-7.72 1.47 1.35L5.41 20z\"/>\n",
              "  </svg>\n",
              "      </button>\n",
              "      \n",
              "  <style>\n",
              "    .colab-df-container {\n",
              "      display:flex;\n",
              "      flex-wrap:wrap;\n",
              "      gap: 12px;\n",
              "    }\n",
              "\n",
              "    .colab-df-convert {\n",
              "      background-color: #E8F0FE;\n",
              "      border: none;\n",
              "      border-radius: 50%;\n",
              "      cursor: pointer;\n",
              "      display: none;\n",
              "      fill: #1967D2;\n",
              "      height: 32px;\n",
              "      padding: 0 0 0 0;\n",
              "      width: 32px;\n",
              "    }\n",
              "\n",
              "    .colab-df-convert:hover {\n",
              "      background-color: #E2EBFA;\n",
              "      box-shadow: 0px 1px 2px rgba(60, 64, 67, 0.3), 0px 1px 3px 1px rgba(60, 64, 67, 0.15);\n",
              "      fill: #174EA6;\n",
              "    }\n",
              "\n",
              "    [theme=dark] .colab-df-convert {\n",
              "      background-color: #3B4455;\n",
              "      fill: #D2E3FC;\n",
              "    }\n",
              "\n",
              "    [theme=dark] .colab-df-convert:hover {\n",
              "      background-color: #434B5C;\n",
              "      box-shadow: 0px 1px 3px 1px rgba(0, 0, 0, 0.15);\n",
              "      filter: drop-shadow(0px 1px 2px rgba(0, 0, 0, 0.3));\n",
              "      fill: #FFFFFF;\n",
              "    }\n",
              "  </style>\n",
              "\n",
              "      <script>\n",
              "        const buttonEl =\n",
              "          document.querySelector('#df-51cf5377-9f30-47f0-84c9-c1bec59452d8 button.colab-df-convert');\n",
              "        buttonEl.style.display =\n",
              "          google.colab.kernel.accessAllowed ? 'block' : 'none';\n",
              "\n",
              "        async function convertToInteractive(key) {\n",
              "          const element = document.querySelector('#df-51cf5377-9f30-47f0-84c9-c1bec59452d8');\n",
              "          const dataTable =\n",
              "            await google.colab.kernel.invokeFunction('convertToInteractive',\n",
              "                                                     [key], {});\n",
              "          if (!dataTable) return;\n",
              "\n",
              "          const docLinkHtml = 'Like what you see? Visit the ' +\n",
              "            '<a target=\"_blank\" href=https://colab.research.google.com/notebooks/data_table.ipynb>data table notebook</a>'\n",
              "            + ' to learn more about interactive tables.';\n",
              "          element.innerHTML = '';\n",
              "          dataTable['output_type'] = 'display_data';\n",
              "          await google.colab.output.renderOutput(dataTable, element);\n",
              "          const docLink = document.createElement('div');\n",
              "          docLink.innerHTML = docLinkHtml;\n",
              "          element.appendChild(docLink);\n",
              "        }\n",
              "      </script>\n",
              "    </div>\n",
              "  </div>\n",
              "  "
            ]
          },
          "metadata": {},
          "execution_count": 77
        }
      ]
    },
    {
      "cell_type": "code",
      "source": [
        "df[[\"val_acc\"]].plot(kind=\"bar\")\n",
        "plt.title(\"val_acc\")\n",
        "plt.ylabel(\"acc\")\n",
        "\n",
        "df[[\"val_loss\"]].plot(kind=\"bar\")\n",
        "plt.title(\"val_loss\")\n",
        "plt.ylabel(\"loss\")\n",
        "plt.show()"
      ],
      "metadata": {
        "colab": {
          "base_uri": "https://localhost:8080/",
          "height": 1000
        },
        "id": "wFGnWTG9OCxG",
        "outputId": "49cc666e-836e-46f3-9ed1-3afd1c4083e7"
      },
      "execution_count": 78,
      "outputs": [
        {
          "output_type": "display_data",
          "data": {
            "text/plain": [
              "<Figure size 640x480 with 1 Axes>"
            ],
            "image/png": "[encoded data removed]"
          },
          "metadata": {}
        },
        {
          "output_type": "display_data",
          "data": {
            "text/plain": [
              "<Figure size 640x480 with 1 Axes>"
            ],
            "image/png": "[encoded data removed]"
          },
          "metadata": {}
        }
      ]
    },
    {
      "cell_type": "markdown",
      "source": [
        "**Confusion Matrix**"
      ],
      "metadata": {
        "id": "rKa1UP-gF9is"
      }
    },
    {
      "cell_type": "code",
      "source": [
        "test_dataset_1= datasets.FashionMNIST(root=\"data\",\n",
        "                                    train=False, #tets_data\n",
        "                                    transform=ToTensor(),\n",
        "                                    target_transform=None)"
      ],
      "metadata": {
        "id": "XVqSKK85GCDq"
      },
      "execution_count": 94,
      "outputs": []
    },
    {
      "cell_type": "code",
      "source": [
        "!pip install torchmetrics\n",
        "from torchmetrics import ConfusionMatrix\n",
        "import mlxtend\n",
        "from mlxtend.plotting import plot_confusion_matrix"
      ],
      "metadata": {
        "colab": {
          "base_uri": "https://localhost:8080/"
        },
        "id": "ZuixFWMEyiOQ",
        "outputId": "a2c7674f-8250-46a0-939b-5fe94d980fb2"
      },
      "execution_count": 79,
      "outputs": [
        {
          "output_type": "stream",
          "name": "stdout",
          "text": [
            "Looking in indexes: https://pypi.org/simple, https://us-python.pkg.dev/colab-wheels/public/simple/\n",
            "Requirement already satisfied: torchmetrics in /usr/local/lib/python3.9/dist-packages (0.11.4)\n",
            "Requirement already satisfied: packaging in /usr/local/lib/python3.9/dist-packages (from torchmetrics) (23.0)\n",
            "Requirement already satisfied: numpy>=1.17.2 in /usr/local/lib/python3.9/dist-packages (from torchmetrics) (1.22.4)\n",
            "Requirement already satisfied: torch>=1.8.1 in /usr/local/lib/python3.9/dist-packages (from torchmetrics) (2.0.0+cu118)\n",
            "Requirement already satisfied: filelock in /usr/local/lib/python3.9/dist-packages (from torch>=1.8.1->torchmetrics) (3.11.0)\n",
            "Requirement already satisfied: typing-extensions in /usr/local/lib/python3.9/dist-packages (from torch>=1.8.1->torchmetrics) (4.5.0)\n",
            "Requirement already satisfied: jinja2 in /usr/local/lib/python3.9/dist-packages (from torch>=1.8.1->torchmetrics) (3.1.2)\n",
            "Requirement already satisfied: networkx in /usr/local/lib/python3.9/dist-packages (from torch>=1.8.1->torchmetrics) (3.1)\n",
            "Requirement already satisfied: triton==2.0.0 in /usr/local/lib/python3.9/dist-packages (from torch>=1.8.1->torchmetrics) (2.0.0)\n",
            "Requirement already satisfied: sympy in /usr/local/lib/python3.9/dist-packages (from torch>=1.8.1->torchmetrics) (1.11.1)\n",
            "Requirement already satisfied: lit in /usr/local/lib/python3.9/dist-packages (from triton==2.0.0->torch>=1.8.1->torchmetrics) (16.0.1)\n",
            "Requirement already satisfied: cmake in /usr/local/lib/python3.9/dist-packages (from triton==2.0.0->torch>=1.8.1->torchmetrics) (3.25.2)\n",
            "Requirement already satisfied: MarkupSafe>=2.0 in /usr/local/lib/python3.9/dist-packages (from jinja2->torch>=1.8.1->torchmetrics) (2.1.2)\n",
            "Requirement already satisfied: mpmath>=0.19 in /usr/local/lib/python3.9/dist-packages (from sympy->torch>=1.8.1->torchmetrics) (1.3.0)\n"
          ]
        }
      ]
    },
    {
      "cell_type": "code",
      "source": [
        "def confusion_matrix(model):\n",
        "  y_preds_l=[]\n",
        "  cm=ConfusionMatrix(\"multiclass\", num_classes=len(class_names), normalize=None)\n",
        "  for x, y in test_dataset:\n",
        "    model.eval()\n",
        "    with torch.inference_mode():\n",
        "\n",
        "      y_pred_s=model(x)\n",
        "      y_preds=y_pred_s.argmax(dim=1)\n",
        "      y_preds_l.append(y_preds.cpu())\n",
        "  y_preds_1=torch.cat(y_preds_l)\n",
        "\n",
        "  fig, ax=plot_confusion_matrix(conf_mat=cm(y_preds_1, test_dataset_1.targets).numpy(), colorbar=True, show_normed= True, show_absolute=False)\n",
        "  plt.show()"
      ],
      "metadata": {
        "id": "VE6dpLYAygCx"
      },
      "execution_count": 115,
      "outputs": []
    },
    {
      "cell_type": "code",
      "source": [
        "confusion_matrix(model_1)"
      ],
      "metadata": {
        "colab": {
          "base_uri": "https://localhost:8080/",
          "height": 449
        },
        "id": "dhOj80O3y4Fk",
        "outputId": "afe69868-77fe-4483-d3a0-28e430b785de"
      },
      "execution_count": 118,
      "outputs": [
        {
          "output_type": "display_data",
          "data": {
            "text/plain": [
              "<Figure size 640x480 with 2 Axes>"
            ],
            "image/png": "[encoded data removed]"
          },
          "metadata": {}
        }
      ]
    },
    {
      "cell_type": "code",
      "source": [
        "confusion_matrix(model_0)"
      ],
      "metadata": {
        "colab": {
          "base_uri": "https://localhost:8080/",
          "height": 449
        },
        "id": "dh6_vS8c3pT6",
        "outputId": "93dc622e-6185-4774-88cd-da1374e4467f"
      },
      "execution_count": 117,
      "outputs": [
        {
          "output_type": "display_data",
          "data": {
            "text/plain": [
              "<Figure size 640x480 with 2 Axes>"
            ],
            "image/png": "[encoded data removed]"
          },
          "metadata": {}
        }
      ]
    }
  ]
}